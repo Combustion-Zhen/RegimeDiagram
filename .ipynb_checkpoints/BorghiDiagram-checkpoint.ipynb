{
 "cells": [
  {
   "cell_type": "code",
   "execution_count": 1,
   "metadata": {},
   "outputs": [],
   "source": [
    "import numpy as np\n",
    "import pandas as pd\n",
    "import matplotlib\n",
    "matplotlib.use('TkAgg')\n",
    "import matplotlib.pyplot as plt"
   ]
  },
  {
   "cell_type": "code",
   "execution_count": 2,
   "metadata": {},
   "outputs": [],
   "source": [
    "import figureSize"
   ]
  },
  {
   "cell_type": "code",
   "execution_count": 3,
   "metadata": {},
   "outputs": [],
   "source": [
    "# figure specification\n",
    "plot_width      =15\n",
    "#plot_width      =9.0\n",
    "margin_left     =3\n",
    "#margin_left     =2\n",
    "margin_right    =0.3\n",
    "margin_bottom   =2\n",
    "#margin_bottom   =1.2\n",
    "margin_top      =0.2\n",
    "space_width     =1.0\n",
    "space_height    =1.0\n",
    "subplot_ratio   =1.0\n",
    "ftsize          =20\n",
    "#ftsize          =11\n",
    "markersize      =81\n",
    "#markersize      =36\n",
    "linewidth       =2\n",
    "#linewidth       =1\n",
    "\n",
    "font = {'family':'serif',\n",
    "        'weight':'normal',\n",
    "        'size':ftsize}\n",
    "# use TEX for interpreter\n",
    "plt.rc('text',usetex=True)\n",
    "plt.rc('text.latex', preamble=[r'\\usepackage{amsmath}',r'\\usepackage{bm}'])\n",
    "# use serif font\n",
    "plt.rc('font',**font)\n",
    "\n",
    "ncol = 1\n",
    "nrow = 1\n",
    "\n",
    "plot_height, subplot_height, subplot_width = figureSize.UniformSubplots(\n",
    "    plot_width, [nrow, ncol], subplot_ratio, \n",
    "    [margin_left, margin_bottom, margin_right, margin_top],\n",
    "    [space_height, space_width])"
   ]
  },
  {
   "cell_type": "code",
   "execution_count": 4,
   "metadata": {},
   "outputs": [],
   "source": [
    "# high pressure DNS cases\n",
    "uWangX = [9.4, 13.7, 2.74, 15, 23, 100]\n",
    "lWangX = [2.63, 5.897, 5.897, 1, 1, 1]\n",
    "\n",
    "uSavard = [20, 3.7]\n",
    "lSavard = [1, 1]\n",
    "\n",
    "uWangZ = [14.34, 29.01, 46.45, 14.34, 14.34, 14.34, 8, 8, 8,\n",
    "          2, 5, 10, 10, 10, 15, 20, 25]\n",
    "lWangZ = [6.4, 3.2, 2.13, 6.4, 6.4, 6.4, 6.4, 6.4, 6.4,\n",
    "          6.4, 6.4, 6.4, 3.2, 12.8, 6.4, 6.4, 6.4]\n",
    "\n",
    "uYou = [1, 2, 5, 10, 20]\n",
    "lYou = 0.91*np.ones(len(uYou))"
   ]
  },
  {
   "cell_type": "code",
   "execution_count": 5,
   "metadata": {},
   "outputs": [
    {
     "data": {
      "text/plain": [
       "[None, None, None, None]"
      ]
     },
     "execution_count": 5,
     "metadata": {},
     "output_type": "execute_result"
    }
   ],
   "source": [
    "fig = plt.figure( figsize = figureSize.cm2inch( plot_width, plot_height ),\n",
    "                  frameon = True )\n",
    "rect = (margin_left/plot_width,\n",
    "        margin_bottom/plot_height,\n",
    "        subplot_width/plot_width,\n",
    "        subplot_height/plot_height)\n",
    "ax = fig.add_axes(rect)\n",
    "\n",
    "# Re = 1\n",
    "ax.plot([1e-1, 1e1], [1e1, 1e-1], 'k-', lw=linewidth)\n",
    "# Ka = 1\n",
    "ax.plot([1e0, 1e3], [1e0, 1e1], 'k-', lw=linewidth)\n",
    "# Ka = 100\n",
    "ax.plot([1e-1, 1e5], [1e1, 1e3], 'k-', lw=linewidth)\n",
    "# Da = 1\n",
    "#ax.plot([1e-1, 1e3], [1e-1, 1e3], 'k--', lw=linewidth)\n",
    "# u\\prime / S_L\n",
    "ax.plot([1e0, 1e3], [1e0, 1e0], 'k-', lw=linewidth)\n",
    "\n",
    "\n",
    "d1 = ax.scatter(lWangX, uWangX, marker='D', s=markersize, c='tab:blue')\n",
    "d2 = ax.scatter(lSavard, uSavard, marker='s', s=markersize, c='tab:orange')\n",
    "d3 = ax.scatter(lWangZ, uWangZ, marker='^', s=markersize, c='tab:green')\n",
    "d4 = ax.scatter(lYou, uYou, marker='o', s=markersize, c='tab:red')\n",
    "\n",
    "ax.set_xscale('log')\n",
    "ax.set_yscale('log')\n",
    "\n",
    "ax.set_xlim([1e-1, 2e2])\n",
    "ax.set_ylim([1e-1, 2e2])\n",
    "\n",
    "ax.set_xlabel('$l_t/\\delta_L$')\n",
    "ax.set_ylabel('$u^\\prime/S_L$')\n",
    "\n",
    "ax.legend((d1, d2, d3, d4),\n",
    "          ('Wang X. et al', 'Savard et al', 'Wang Z. et al', 'You and Yang')\n",
    "         )\n",
    "\n",
    "plt.setp(ax.spines.values(), linewidth=linewidth)"
   ]
  },
  {
   "cell_type": "code",
   "execution_count": 6,
   "metadata": {},
   "outputs": [],
   "source": [
    "plt.savefig('BorghiDiagram.eps')\n",
    "plt.savefig('BorghiDiagram.png')"
   ]
  }
 ],
 "metadata": {
  "kernelspec": {
   "display_name": "Python 3",
   "language": "python",
   "name": "python3"
  },
  "language_info": {
   "codemirror_mode": {
    "name": "ipython",
    "version": 3
   },
   "file_extension": ".py",
   "mimetype": "text/x-python",
   "name": "python",
   "nbconvert_exporter": "python",
   "pygments_lexer": "ipython3",
   "version": "3.7.3"
  }
 },
 "nbformat": 4,
 "nbformat_minor": 2
}
